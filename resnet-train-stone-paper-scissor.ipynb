{
 "cells": [
  {
   "cell_type": "markdown",
   "id": "aad174da",
   "metadata": {},
   "source": [
    "## Training the model using transfer learning"
   ]
  },
  {
   "cell_type": "code",
   "execution_count": 1,
   "id": "relevant-compression",
   "metadata": {
    "execution": {
     "iopub.execute_input": "2021-05-16T08:30:32.397779Z",
     "iopub.status.busy": "2021-05-16T08:30:32.396995Z",
     "iopub.status.idle": "2021-05-16T08:30:41.905383Z",
     "shell.execute_reply": "2021-05-16T08:30:41.904261Z"
    },
    "papermill": {
     "duration": 9.520662,
     "end_time": "2021-05-16T08:30:41.905556",
     "exception": false,
     "start_time": "2021-05-16T08:30:32.384894",
     "status": "completed"
    },
    "tags": []
   },
   "outputs": [
    {
     "name": "stdout",
     "output_type": "stream",
     "text": [
      "Downloading data from https://storage.googleapis.com/tensorflow/keras-applications/resnet/resnet50_weights_tf_dim_ordering_tf_kernels_notop.h5\n",
      "94773248/94765736 [==============================] - 1s 0us/step\n"
     ]
    }
   ],
   "source": [
    "from keras.applications.resnet50 import ResNet50\n",
    "from keras.optimizers import Adam\n",
    "from keras.layers import *\n",
    "from keras.models import Model\n",
    "\n",
    "model = ResNet50(include_top=False, weights='imagenet', input_shape=(224, 224, 3))"
   ]
  },
  {
   "cell_type": "code",
   "execution_count": 2,
   "id": "stopped-music",
   "metadata": {
    "execution": {
     "iopub.execute_input": "2021-05-16T08:30:41.932293Z",
     "iopub.status.busy": "2021-05-16T08:30:41.930504Z",
     "iopub.status.idle": "2021-05-16T08:30:41.950952Z",
     "shell.execute_reply": "2021-05-16T08:30:41.950315Z"
    },
    "papermill": {
     "duration": 0.035222,
     "end_time": "2021-05-16T08:30:41.951071",
     "exception": false,
     "start_time": "2021-05-16T08:30:41.915849",
     "status": "completed"
    },
    "tags": []
   },
   "outputs": [],
   "source": [
    "av1 = GlobalAveragePooling2D()(model.output)\n",
    "fc1 = Dense(256, activation='relu')(av1)\n",
    "d1 = Dropout(0.5)(fc1)\n",
    "fc2 = Dense(3, activation='softmax')(d1)"
   ]
  },
  {
   "cell_type": "code",
   "execution_count": 3,
   "id": "indonesian-generic",
   "metadata": {
    "execution": {
     "iopub.execute_input": "2021-05-16T08:30:41.975772Z",
     "iopub.status.busy": "2021-05-16T08:30:41.975001Z",
     "iopub.status.idle": "2021-05-16T08:30:41.988881Z",
     "shell.execute_reply": "2021-05-16T08:30:41.988452Z"
    },
    "papermill": {
     "duration": 0.028462,
     "end_time": "2021-05-16T08:30:41.988983",
     "exception": false,
     "start_time": "2021-05-16T08:30:41.960521",
     "status": "completed"
    },
    "tags": []
   },
   "outputs": [],
   "source": [
    "model_new = Model(inputs= model.input, outputs = fc2)"
   ]
  },
  {
   "cell_type": "code",
   "execution_count": 4,
   "id": "signal-culture",
   "metadata": {
    "execution": {
     "iopub.execute_input": "2021-05-16T08:30:42.030546Z",
     "iopub.status.busy": "2021-05-16T08:30:42.020262Z",
     "iopub.status.idle": "2021-05-16T08:30:42.064543Z",
     "shell.execute_reply": "2021-05-16T08:30:42.064113Z"
    },
    "papermill": {
     "duration": 0.066175,
     "end_time": "2021-05-16T08:30:42.064674",
     "exception": false,
     "start_time": "2021-05-16T08:30:41.998499",
     "status": "completed"
    },
    "tags": []
   },
   "outputs": [],
   "source": [
    "# FINE TUNING the model\n",
    "for ix in range(169):\n",
    "\n",
    "    model_new.layers[ix].trainable = False\n",
    "\n",
    "# Compiling the model after freezing\n",
    "\n",
    "adam = Adam(learning_rate=0.00003)\n",
    "model_new.compile(\n",
    "    loss= 'categorical_crossentropy',\n",
    "    optimizer=adam,\n",
    "    metrics=['accuracy']\n",
    ")"
   ]
  },
  {
   "cell_type": "code",
   "execution_count": 5,
   "id": "heated-horizontal",
   "metadata": {
    "execution": {
     "iopub.execute_input": "2021-05-16T08:30:42.089098Z",
     "iopub.status.busy": "2021-05-16T08:30:42.087729Z",
     "iopub.status.idle": "2021-05-16T08:30:42.090150Z",
     "shell.execute_reply": "2021-05-16T08:30:42.090603Z"
    },
    "papermill": {
     "duration": 0.016307,
     "end_time": "2021-05-16T08:30:42.090748",
     "exception": false,
     "start_time": "2021-05-16T08:30:42.074441",
     "status": "completed"
    },
    "tags": []
   },
   "outputs": [],
   "source": [
    "from keras.callbacks import ModelCheckpoint\n",
    "checkpoint = ModelCheckpoint(\n",
    "    \"mob_model_new.h5\",\n",
    "    monitor=\"val_loss\",\n",
    "    verbose=0,\n",
    "    save_best_only=True,\n",
    "    save_weights_only=True\n",
    ")"
   ]
  },
  {
   "cell_type": "code",
   "execution_count": 6,
   "id": "turkish-applicant",
   "metadata": {
    "execution": {
     "iopub.execute_input": "2021-05-16T08:30:42.114011Z",
     "iopub.status.busy": "2021-05-16T08:30:42.113510Z",
     "iopub.status.idle": "2021-05-16T08:30:43.965282Z",
     "shell.execute_reply": "2021-05-16T08:30:43.964802Z"
    },
    "papermill": {
     "duration": 1.864769,
     "end_time": "2021-05-16T08:30:43.965444",
     "exception": false,
     "start_time": "2021-05-16T08:30:42.100675",
     "status": "completed"
    },
    "tags": []
   },
   "outputs": [],
   "source": [
    "import pickle\n",
    "\n",
    "with open(\"../input/just-image-files-rps-game/X.pkl\", \"rb\") as input_file:\n",
    "    X_train = pickle.load(input_file)\n",
    "    \n",
    "with open(\"../input/just-image-files-rps-game/Y.pkl\", \"rb\") as input_file:\n",
    "    Y_train = pickle.load(input_file)"
   ]
  },
  {
   "cell_type": "code",
   "execution_count": 7,
   "id": "accomplished-clearing",
   "metadata": {
    "execution": {
     "iopub.execute_input": "2021-05-16T08:30:43.992866Z",
     "iopub.status.busy": "2021-05-16T08:30:43.992212Z",
     "iopub.status.idle": "2021-05-16T08:30:43.995913Z",
     "shell.execute_reply": "2021-05-16T08:30:43.996296Z"
    },
    "papermill": {
     "duration": 0.020792,
     "end_time": "2021-05-16T08:30:43.996426",
     "exception": false,
     "start_time": "2021-05-16T08:30:43.975634",
     "status": "completed"
    },
    "tags": []
   },
   "outputs": [
    {
     "data": {
      "text/plain": [
       "((606, 224, 224, 3), (606, 3))"
      ]
     },
     "execution_count": 7,
     "metadata": {},
     "output_type": "execute_result"
    }
   ],
   "source": [
    "X_train.shape, Y_train.shape"
   ]
  },
  {
   "cell_type": "code",
   "execution_count": 8,
   "id": "rapid-amendment",
   "metadata": {
    "execution": {
     "iopub.execute_input": "2021-05-16T08:30:44.022245Z",
     "iopub.status.busy": "2021-05-16T08:30:44.021769Z",
     "iopub.status.idle": "2021-05-16T08:31:08.394787Z",
     "shell.execute_reply": "2021-05-16T08:31:08.393970Z"
    },
    "papermill": {
     "duration": 24.388503,
     "end_time": "2021-05-16T08:31:08.394933",
     "exception": false,
     "start_time": "2021-05-16T08:30:44.006430",
     "status": "completed"
    },
    "tags": []
   },
   "outputs": [
    {
     "name": "stdout",
     "output_type": "stream",
     "text": [
      "Epoch 1/10\n",
      "33/33 [==============================] - 9s 85ms/step - loss: 0.9837 - accuracy: 0.4944 - val_loss: 1.0067 - val_accuracy: 0.4945\n",
      "Epoch 2/10\n",
      "33/33 [==============================] - 1s 38ms/step - loss: 0.4121 - accuracy: 0.8399 - val_loss: 0.3541 - val_accuracy: 1.0000\n",
      "Epoch 3/10\n",
      "33/33 [==============================] - 1s 38ms/step - loss: 0.2114 - accuracy: 0.9395 - val_loss: 0.2575 - val_accuracy: 1.0000\n",
      "Epoch 4/10\n",
      "33/33 [==============================] - 1s 38ms/step - loss: 0.1420 - accuracy: 0.9746 - val_loss: 0.1842 - val_accuracy: 1.0000\n",
      "Epoch 5/10\n",
      "33/33 [==============================] - 1s 41ms/step - loss: 0.1193 - accuracy: 0.9878 - val_loss: 0.1618 - val_accuracy: 1.0000\n",
      "Epoch 6/10\n",
      "33/33 [==============================] - 1s 39ms/step - loss: 0.1058 - accuracy: 0.9819 - val_loss: 0.1079 - val_accuracy: 1.0000\n",
      "Epoch 7/10\n",
      "33/33 [==============================] - 1s 38ms/step - loss: 0.0739 - accuracy: 0.9919 - val_loss: 0.0740 - val_accuracy: 1.0000\n",
      "Epoch 8/10\n",
      "33/33 [==============================] - 1s 38ms/step - loss: 0.0601 - accuracy: 0.9956 - val_loss: 0.0673 - val_accuracy: 1.0000\n",
      "Epoch 9/10\n",
      "33/33 [==============================] - 1s 38ms/step - loss: 0.0465 - accuracy: 0.9954 - val_loss: 0.0604 - val_accuracy: 1.0000\n",
      "Epoch 10/10\n",
      "33/33 [==============================] - 1s 38ms/step - loss: 0.0432 - accuracy: 0.9970 - val_loss: 0.0559 - val_accuracy: 1.0000\n"
     ]
    }
   ],
   "source": [
    "hist = model_new.fit(X_train,\n",
    "                     Y_train,\n",
    "                     shuffle= True,\n",
    "                     batch_size= 16,\n",
    "                     epochs= 10,\n",
    "                     validation_split= 0.15,\n",
    "                     callbacks=[checkpoint]\n",
    "                     )"
   ]
  },
  {
   "cell_type": "code",
   "execution_count": null,
   "id": "alpine-element",
   "metadata": {
    "papermill": {
     "duration": 0.270769,
     "end_time": "2021-05-16T08:31:08.730407",
     "exception": false,
     "start_time": "2021-05-16T08:31:08.459638",
     "status": "completed"
    },
    "tags": []
   },
   "outputs": [],
   "source": []
  }
 ],
 "metadata": {
  "kernelspec": {
   "display_name": "Python 3",
   "language": "python",
   "name": "python3"
  },
  "language_info": {
   "codemirror_mode": {
    "name": "ipython",
    "version": 3
   },
   "file_extension": ".py",
   "mimetype": "text/x-python",
   "name": "python",
   "nbconvert_exporter": "python",
   "pygments_lexer": "ipython3",
   "version": "3.8.8"
  },
  "papermill": {
   "default_parameters": {},
   "duration": 43.00281,
   "end_time": "2021-05-16T08:31:10.566758",
   "environment_variables": {},
   "exception": null,
   "input_path": "__notebook__.ipynb",
   "output_path": "__notebook__.ipynb",
   "parameters": {},
   "start_time": "2021-05-16T08:30:27.563948",
   "version": "2.3.2"
  }
 },
 "nbformat": 4,
 "nbformat_minor": 5
}
