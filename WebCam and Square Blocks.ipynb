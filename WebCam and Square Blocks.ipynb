{
 "cells": [
  {
   "cell_type": "code",
   "execution_count": 1,
   "metadata": {},
   "outputs": [],
   "source": [
    "import cv2\n",
    "import time \n",
    "import matplotlib.pyplot as plt\n",
    "import numpy as np"
   ]
  },
  {
   "cell_type": "code",
   "execution_count": 2,
   "metadata": {},
   "outputs": [],
   "source": [
    "from keras.applications.resnet50 import ResNet50\n",
    "from keras.optimizers import Adam\n",
    "from keras.layers import *\n",
    "from keras.models import Model"
   ]
  },
  {
   "cell_type": "code",
   "execution_count": 3,
   "metadata": {},
   "outputs": [],
   "source": [
    "model = ResNet50(include_top=False, weights='imagenet', input_shape=(224, 224, 3))"
   ]
  },
  {
   "cell_type": "code",
   "execution_count": 4,
   "metadata": {},
   "outputs": [],
   "source": [
    "av1 = GlobalAveragePooling2D()(model.output)\n",
    "fc1 = Dense(256, activation='relu')(av1)\n",
    "d1 = Dropout(0.5)(fc1)\n",
    "fc2 = Dense(3, activation='softmax')(d1)"
   ]
  },
  {
   "cell_type": "code",
   "execution_count": 5,
   "metadata": {},
   "outputs": [],
   "source": [
    "model_new = Model(inputs= model.input, outputs = fc2)\n",
    "for ix in range(169):\n",
    "    model_new.layers[ix].trainable = False\n",
    "adam = Adam(learning_rate=0.00003)\n",
    "model_new.compile(\n",
    "    loss= 'categorical_crossentropy',\n",
    "    optimizer=adam,\n",
    "    metrics=['accuracy']\n",
    ")"
   ]
  },
  {
   "cell_type": "markdown",
   "metadata": {},
   "source": [
    "## Loading the weights"
   ]
  },
  {
   "cell_type": "code",
   "execution_count": 7,
   "metadata": {},
   "outputs": [],
   "source": [
    "model_new.load_weights(\"./mob_model_new.h5\")"
   ]
  },
  {
   "cell_type": "markdown",
   "metadata": {},
   "source": [
    "## Demo for set-up"
   ]
  },
  {
   "cell_type": "code",
   "execution_count": 8,
   "metadata": {},
   "outputs": [],
   "source": [
    "cap = cv2.VideoCapture(0)\n",
    "\n",
    "TIMER = int(3) \n",
    "\n",
    "while(True):\n",
    "    \n",
    "    ret, frame = cap.read()\n",
    "    if ret == False:\n",
    "        continue\n",
    "    \n",
    "    cv2.rectangle(frame,(50,100),(250,350),(255,0,0),2)\n",
    "    cv2.rectangle(frame,(400,100),(600,350),(0,255,0),2)\n",
    "    \n",
    "    frame = cv2.resize(frame, (1000, 700))\n",
    "    \n",
    "    frame = cv2.flip(frame,1)\n",
    "    cv2.imshow(\"Rock Paper Scissors\", frame)\n",
    "    \n",
    "    key_pressed = cv2.waitKey(1) & 0xFF\n",
    "    \n",
    "    if key_pressed == ord('q'):\n",
    "        break\n",
    "        \n",
    "cap.release()\n",
    "cv2.destroyAllWindows()"
   ]
  },
  {
   "cell_type": "code",
   "execution_count": 9,
   "metadata": {},
   "outputs": [],
   "source": [
    "labels_dict = {\n",
    "    \"Paper\" : 0,\n",
    "    \"Rock\" : 1,\n",
    "    \"Scissor\" : 2\n",
    "}\n",
    "rev_label_dict = dict([(value, key) for (key, value) in labels_dict.items()])"
   ]
  },
  {
   "cell_type": "markdown",
   "metadata": {},
   "source": [
    "## Winner function for scoring"
   ]
  },
  {
   "cell_type": "code",
   "execution_count": 10,
   "metadata": {},
   "outputs": [],
   "source": [
    "def winner(f1, f2):\n",
    "    \n",
    "    p1 = rev_label_dict.get((np.argmax(model_new.predict(f1.reshape(1,224,224,3)))))\n",
    "    p2 = rev_label_dict.get((np.argmax(model_new.predict(f2.reshape(1,224,224,3)))))\n",
    "    \n",
    "    if (p1 == \"Rock\" and p2 ==\"Scissor\") or (p1 == \"Paper\" and p2 == \"Rock\") or ( p1 == \"Scissor\" and p2 == \"Paper\"):\n",
    "        return 1\n",
    "    \n",
    "    elif (p2 == \"Rock\" and p1 ==\"Scissor\") or (p2 == \"Paper\" and p1 == \"Rock\") or ( p2 == \"Scissor\" and p1 == \"Paper\"):\n",
    "        return -1\n",
    "    \n",
    "    return 0"
   ]
  },
  {
   "cell_type": "markdown",
   "metadata": {},
   "source": [
    "## Merging WebCam feed with the model\n",
    "## Continuous Scoring\n",
    "## Best of 5"
   ]
  },
  {
   "cell_type": "code",
   "execution_count": 11,
   "metadata": {},
   "outputs": [],
   "source": [
    "cap = cv2.VideoCapture(0)\n",
    "score1 = 0\n",
    "score2 = 0\n",
    "TIMER = int(3) \n",
    "count = 0\n",
    "\n",
    "cv2.waitKey(125)\n",
    "\n",
    "while(True):\n",
    "    \n",
    "    ret, frame = cap.read()\n",
    "    if ret == False:\n",
    "        continue\n",
    "    \n",
    "    cv2.rectangle(frame,(50,100),(274,324),(255,0,0),2)\n",
    "    cv2.rectangle(frame,(400,100),(624,324),(255,0,0),2)\n",
    "    cv2.putText(frame , str(score1) , (50,570) , cv2.FONT_HERSHEY_SIMPLEX , 4 ,(0,69,255) , 2 , cv2.LINE_AA )\n",
    "    cv2.putText(frame , str(score2) , (600,570) , cv2.FONT_HERSHEY_SIMPLEX , 4 ,(0,69,255) , 2 , cv2.LINE_AA )\n",
    "    \n",
    "    frame = cv2.resize(frame, (1000, 700))\n",
    "    \n",
    "    frame = cv2.flip(frame,1)\n",
    "    cv2.imshow(\"Rock Paper Scissors\", frame)\n",
    "    \n",
    "    prev = time.time()\n",
    "    \n",
    "    while TIMER >= 0:\n",
    "        \n",
    "        ret, frame = cap.read()\n",
    "        if ret == False:\n",
    "            continue\n",
    "\n",
    "        cv2.rectangle(frame,(50,100),(274,324),(255,0,0),2)\n",
    "        cv2.rectangle(frame,(400,100),(624,324),(255,0,0),2)\n",
    "\n",
    "        frame = cv2.resize(frame, (1000, 700))\n",
    "\n",
    "        frame = cv2.flip(frame,1)\n",
    "        \n",
    "        font = cv2.FONT_HERSHEY_SIMPLEX \n",
    "        cv2.putText(frame, str(TIMER),  \n",
    "                    (400, 250), font, \n",
    "                    7, (0, 0, 255), \n",
    "                    4, cv2.LINE_AA)\n",
    "        cv2.putText(frame , str(score1) , (50,570) , cv2.FONT_HERSHEY_SIMPLEX , 4 ,(0,69,255) , 2 , cv2.LINE_AA )\n",
    "        cv2.putText(frame , str(score2) , (600,570) , cv2.FONT_HERSHEY_SIMPLEX , 4 ,(0,69,255) , 2 , cv2.LINE_AA )\n",
    "        \n",
    "        cv2.imshow(\"Rock Paper Scissors\", frame)\n",
    "        cv2.waitKey(125)\n",
    "        cur = time.time()\n",
    "        \n",
    "        if cur-prev >=1:\n",
    "            prev = cur\n",
    "            TIMER = TIMER - 1\n",
    "            \n",
    "    else:\n",
    "        \n",
    "        ret, frame = cap.read()\n",
    "        if ret == False:\n",
    "            continue\n",
    "        \n",
    "        \n",
    "        # Images for the model\n",
    "        f1 = frame[100:324, 400:624]\n",
    "        f2 = frame[100:324, 50:274]\n",
    "        \n",
    "        if winner(f1, f2) == 1:\n",
    "            cv2.rectangle(frame,(50,100),(274,324),(255,0,0),2)\n",
    "            cv2.rectangle(frame,(400,100),(624,324),(0,255,0),2)\n",
    "            frame = cv2.resize(frame, (1000, 700))\n",
    "            frame = cv2.flip(frame,1)\n",
    "            score1 += 1\n",
    "            cv2.putText(frame , \"Won\" , (50,95) , cv2.FONT_HERSHEY_SIMPLEX , 4 ,(0,69,255) , 2 , cv2.LINE_AA )\n",
    "            cv2.putText(frame , str(score1) , (50,570) , cv2.FONT_HERSHEY_SIMPLEX , 4 ,(0,69,255) , 2 , cv2.LINE_AA )\n",
    "            cv2.putText(frame , str(score2) , (600,570) , cv2.FONT_HERSHEY_SIMPLEX , 4 ,(0,69,255) , 2 , cv2.LINE_AA )\n",
    "        elif winner(f1, f2) == -1:\n",
    "            cv2.rectangle(frame,(50,100),(274,324),(0,255,0),2)\n",
    "            cv2.rectangle(frame,(400,100),(624,324),(255,0,0),2)\n",
    "            frame = cv2.resize(frame, (1000, 700))\n",
    "            frame = cv2.flip(frame,1)\n",
    "            score2 += 1\n",
    "            cv2.putText(frame , \"Won\" , (600,95) , cv2.FONT_HERSHEY_SIMPLEX , 4 ,(0,69,255) , 2 , cv2.LINE_AA )\n",
    "            cv2.putText(frame , str(score1) , (50,570) , cv2.FONT_HERSHEY_SIMPLEX , 4 ,(0,69,255) , 2 , cv2.LINE_AA )\n",
    "            cv2.putText(frame , str(score2) , (600,570) , cv2.FONT_HERSHEY_SIMPLEX , 4 ,(0,69,255) , 2 , cv2.LINE_AA )\n",
    "        else:\n",
    "            cv2.rectangle(frame,(50,100),(274,324),(0,255,0),2)\n",
    "            cv2.rectangle(frame,(400,100),(624,324),(0,255,0),2)\n",
    "            frame = cv2.resize(frame, (1000, 700))\n",
    "            frame = cv2.flip(frame,1)\n",
    "            cv2.putText(frame , \"Draw\" , (50,95) , cv2.FONT_HERSHEY_SIMPLEX , 4 ,(0,69,255) , 2 , cv2.LINE_AA )\n",
    "            cv2.putText(frame , \"Draw\" , (600,95) , cv2.FONT_HERSHEY_SIMPLEX , 4 ,(0,69,255) , 2 , cv2.LINE_AA )\n",
    "            cv2.putText(frame , str(score1) , (50,570) , cv2.FONT_HERSHEY_SIMPLEX , 4 ,(0,69,255) , 2 , cv2.LINE_AA )\n",
    "            cv2.putText(frame , str(score2) , (600,570) , cv2.FONT_HERSHEY_SIMPLEX , 4 ,(0,69,255) , 2 , cv2.LINE_AA )\n",
    "            \n",
    "        cv2.imshow(\"Rock Paper Scissors\", frame)\n",
    "        cv2.waitKey(2000)\n",
    "        \n",
    "        TIMER = int(3)\n",
    "        count += 1\n",
    "        \n",
    "    if count == 5:\n",
    "        break\n",
    "        \n",
    "    key_pressed = cv2.waitKey(1) & 0xFF\n",
    "    \n",
    "    if key_pressed == ord('q'):\n",
    "        break\n",
    "        \n",
    "cap.release()\n",
    "cv2.destroyAllWindows()"
   ]
  },
  {
   "cell_type": "code",
   "execution_count": null,
   "metadata": {},
   "outputs": [],
   "source": []
  }
 ],
 "metadata": {
  "kernelspec": {
   "display_name": "Python 3",
   "language": "python",
   "name": "python3"
  },
  "language_info": {
   "codemirror_mode": {
    "name": "ipython",
    "version": 3
   },
   "file_extension": ".py",
   "mimetype": "text/x-python",
   "name": "python",
   "nbconvert_exporter": "python",
   "pygments_lexer": "ipython3",
   "version": "3.8.8"
  }
 },
 "nbformat": 4,
 "nbformat_minor": 4
}
